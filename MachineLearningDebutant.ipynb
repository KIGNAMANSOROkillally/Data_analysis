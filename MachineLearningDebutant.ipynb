{
 "cells": [
  {
   "cell_type": "markdown",
   "id": "a13152b4",
   "metadata": {},
   "source": [
    "# Cours ML avec Python — Niveau débutant\n",
    "\n",
    "## Objectif de cette première leçon\n",
    "\n",
    "À la fin de cette leçon, je saurai charger un jeu de données, le découper en apprentissage et test, construire un pipeline scikit-learn, entraîner un modèle simple de classification et un modèle simple de régression, puis évaluer correctement leurs performances.\n",
    "\n",
    "## Les idées de base à comprendre avant de coder\n",
    "\n",
    "Le machine learning apprend des relations à partir de données plutôt que d’être programmé explicitement. On parle d’apprentissage supervisé lorsque l’on dispose d’exemples avec la réponse attendue. **La classification prédit une catégorie comme espèce de fleur, maladie présente ou absente, type de client**. **La régression prédit une quantité comme un prix, une production, un rendement**. On évalue un modèle sur des exemples jamais vus pendant l’entraînement pour mesurer sa capacité à généraliser: c'est la *robustesse*. On sépare donc les données en deux parties nommées apprentissage et test. Pour éviter les erreurs humaines et les fuites d’information, on encapsule tout le prétraitement et le modèle dans un pipeline scikit-learn qui applique toujours les mêmes étapes dans le bon ordre."
   ]
  },
  {
   "cell_type": "markdown",
   "id": "81f4117b",
   "metadata": {},
   "source": [
    "## Premier modèle de classification avec scikit-learn\n",
    "\n",
    "Nous allons prédire l’espèce d’une fleur à partir de mesures simples du célèbre jeu Iris. La variable cible est donc catégorielle"
   ]
  },
  {
   "cell_type": "code",
   "execution_count": 2,
   "id": "92518673",
   "metadata": {},
   "outputs": [
    {
     "name": "stdout",
     "output_type": "stream",
     "text": [
      "Le score de précision est : 0.933\n",
      "\n",
      "              precision    recall  f1-score   support\n",
      "\n",
      "      setosa       1.00      1.00      1.00        10\n",
      "  versicolor       0.90      0.90      0.90        10\n",
      "   virginica       0.90      0.90      0.90        10\n",
      "\n",
      "    accuracy                           0.93        30\n",
      "   macro avg       0.93      0.93      0.93        30\n",
      "weighted avg       0.93      0.93      0.93        30\n",
      "\n"
     ]
    },
    {
     "data": {
      "image/png": "[encoded data removed]",
      "text/plain": [
       "<Figure size 640x480 with 2 Axes>"
      ]
     },
     "metadata": {},
     "output_type": "display_data"
    }
   ],
   "source": [
    "# Importer les librairies\n",
    "import sklearn \n",
    "from sklearn.datasets import load_iris\n",
    "from sklearn.metrics import accuracy_score, classification_report, ConfusionMatrixDisplay\n",
    "from sklearn.model_selection import train_test_split\n",
    "from sklearn.preprocessing import StandardScaler\n",
    "from sklearn.linear_model import LogisticRegression\n",
    "from sklearn.pipeline import make_pipeline\n",
    "import matplotlib.pyplot as plt\n",
    "\n",
    "# 1. Charger les données\n",
    "iris = load_iris(as_frame=True)\n",
    "X = iris.data\n",
    "y = iris.target\n",
    "\n",
    "# 2. Découpage apprentissage et test\n",
    "X_train, X_test, y_train, y_test = train_test_split(X, y, test_size=0.20, random_state=42, stratify=y)\n",
    "\n",
    "# 3. Pipeline: standardisation puis modèle\n",
    "clf = make_pipeline(\n",
    "    StandardScaler(),\n",
    "    LogisticRegression(max_iter=10000)\n",
    ")\n",
    "\n",
    "# 4. Entraînement\n",
    "clf.fit(X_train, y_train)\n",
    "\n",
    "# 5. Evaluation\n",
    "y_pred = clf.predict(X_test)\n",
    "acc = accuracy_score(y_test, y_pred)\n",
    "print(f'Le score de précision est : {acc:.3f}\\n')\n",
    "print(classification_report(y_test, y_pred, target_names=iris.target_names))\n",
    "\n",
    "# 6. Matrix de confusion\n",
    "disp = ConfusionMatrixDisplay.from_estimator(clf, X_test, y_test)\n",
    "plt.title(\"Matrice de confusion - Iris\")\n",
    "plt.show()\n"
   ]
  },
  {
   "cell_type": "markdown",
   "id": "2942d410",
   "metadata": {},
   "source": [
    "**Analyse**\n",
    "\n",
    "Précision globale : 93.3%\n",
    "Le modèle classifie correctement 28 fleurs sur 30 dans l'ensemble de test.\n",
    "\n",
    "Performance par classe :\n",
    "Setosa : 100% de précision (10/10 corrects)\n",
    "Versicolor : 90% de précision (9/10 corrects)\n",
    "Virginica : 90% de précision (9/10 corrects)\n",
    "\n",
    "Le modèle parfait pour distinguer les setosas\n",
    "Légère confusion (1 erreur) entre versicolor et virginica\n",
    "\n",
    "Le modèle est donc efficace pour classifier les espèces d'iris, avec juste une légère difficulté à distinguer les deux espèces les plus similaires (versicolor et virginica)."
   ]
  },
  {
   "cell_type": "markdown",
   "id": "9afa1fea",
   "metadata": {},
   "source": [
    "## Premier modèle de régression avec scikit-learn\n",
    "\n",
    "Nous allons prédire une mesure continue de santé liée au diabète à partir de dix variables.\n",
    "**Attention: La variable cible n'est pas une variable du tableau. C'est le résultat qu'on veut prédire à partir des mesures initiales. Elle n'apparaît pas dans le tableau des données explicatives**\n",
    "Même principe: découpage, pipeline et évaluation mais cette fois avec des métriques adaptées à la régression comme l’erreur absolue moyenne, la racine de l’erreur quadratique moyenne et le coefficient de détermination.\n",
    "\n",
    "La variable cible peut-être:\n",
    "**- Variable cible EXTERNE** (comme dans diabetes)\n",
    "La cible est mesurée ultérieurement\n",
    "Exemple : prédire des résultats futurs\n",
    "\n",
    "**- Variable cible INTERNE** (choisie parmi les features)\n",
    "On sélectionne une colonne existante comme cible\n",
    "\n",
    "Très utile pour :\n",
    "Imputation : prédire des valeurs manquantes\n",
    "Feature importance : comprendre quelles variables expliquent le mieux une autre"
   ]
  },
  {
   "cell_type": "code",
   "execution_count": 10,
   "id": "d6e0b270",
   "metadata": {},
   "outputs": [
    {
     "name": "stdout",
     "output_type": "stream",
     "text": [
      "rmse :  53.777\n",
      "\n",
      "r2 :  0.454\n",
      "\n",
      "mape :  0.374\n",
      "\n"
     ]
    }
   ],
   "source": [
    "# Importer les libriaries\n",
    "from sklearn.datasets import load_diabetes\n",
    "from sklearn.linear_model import Ridge\n",
    "from sklearn.metrics import mean_absolute_error, mean_squared_error, r2_score, mean_absolute_percentage_error\n",
    "import numpy as np\n",
    "\n",
    "# 1. Chargement des données\n",
    "diab = load_diabetes(as_frame=True)\n",
    "X2 = diab.data\n",
    "y2 = diab.target\n",
    "\n",
    "\"\"\"# Aperçu des premières lignes\n",
    "print(\"=== PREMIÈRES LIGNES ===\")\n",
    "print(diab.frame.head())\n",
    "\n",
    "print(\"=== STATISTIQUES DE LA VARIABLE CIBLE ===\")\n",
    "print(f\"Valeurs min : {y2.min()}\")\n",
    "print(f\"Valeurs max : {y2.max()}\")\n",
    "print(f\"Moyenne : {y2.mean():.2f}\")\n",
    "print(f\"Médiane : {y2.median():.2f}\")\n",
    "print(f\"Écart-type : {y2.std():.2f}\")\n",
    "\n",
    "print(\"\\n=== QUELQUES VALEURS EXEMPLES ===\")\n",
    "print(y2.head(10))\"\"\"\n",
    "\n",
    "# 2. Découpage apprentissage et test\n",
    "X2_train, X2_test, y2_train, y2_test = train_test_split(X2, y2, test_size=0.20, random_state=42)\n",
    "\n",
    "# 3. Pipeline : standardisation puis modèle\n",
    "reg = make_pipeline(\n",
    "    StandardScaler(),\n",
    "    Ridge(alpha=1.0)\n",
    ")\n",
    "\n",
    "# 4. Entrainement\n",
    "reg.fit(X2_train, y2_train)\n",
    "\n",
    "# 5. Evaluation\n",
    "y2_pred = reg.predict(X2_test)\n",
    "mae = mean_absolute_error(y2_test, y2_pred)\n",
    "rmse = np.sqrt(mean_squared_error(y2_test, y2_pred))\n",
    "r2 = r2_score(y2_test, y2_pred)\n",
    "mape = mean_absolute_percentage_error(y2_test, y2_pred)\n",
    "\n",
    "print(f'rmse : {rmse : .3f}\\n')\n",
    "print(f'r2 : {r2 : .3f}\\n')\n",
    "print(f'mape : {mape : .3f}\\n')"
   ]
  },
  {
   "cell_type": "markdown",
   "id": "56aa3a81",
   "metadata": {},
   "source": [
    "Analyse des résultats :\n",
    "\n",
    "RMSE = 53.777 : L'erreur quadratique moyenne est d'environ 54 unités\n",
    "R² = 0.454 : Le modèle explique 45.4% de la variance des données\n",
    "MAPE = 0.374 : L'erreur moyenne en pourcentage est de 37.4%\n",
    "\n",
    "Interprétation :\n",
    "Les performances sont correctes pour un modèle de base. Le R² de 0.454 signifie que près de la moitié de la variabilité de la variable cible est expliquée par le modèle. Le MAPE de 37.4% indique que les prédictions ont en moyenne une erreur de 37% par rapport aux valeurs réelles."
   ]
  },
  {
   "cell_type": "markdown",
   "id": "f8a51793",
   "metadata": {},
   "source": [
    "## Random forest (forêt aléatoire)\n",
    "\n",
    "C'est aussi du Machine Learning ! Les Random Forests (Forêts Aléatoires) sont un algorithme d'apprentissage supervisé très populaire.\n",
    "\n",
    "En simple :\n",
    "C'est une collection d'arbres de décision qui travaillent ensemble\n",
    "Chaque arbre vote pour une prédiction\n",
    "La décision finale est la moyenne (régression) ou le vote majoritaire (classification) de tous les arbres"
   ]
  },
  {
   "cell_type": "code",
   "execution_count": 12,
   "id": "c08e41fe",
   "metadata": {},
   "outputs": [
    {
     "name": "stdout",
     "output_type": "stream",
     "text": [
      "\n",
      "==================================================\n",
      "RANDOM FOREST\n",
      "==================================================\n",
      "RMSE :  54.33\n",
      "R² :  0.44\n",
      "MAPE : 0.4000528510559908\n",
      "MAE :  44.05\n"
     ]
    }
   ],
   "source": [
    "from sklearn.ensemble import RandomForestRegressor\n",
    "\n",
    "print(\"\\n\" + \"=\"*50)\n",
    "print(\"RANDOM FOREST\")\n",
    "print(\"=\"*50)\n",
    "\n",
    "rf_model = RandomForestRegressor(n_estimators=100, random_state=42)\n",
    "rf_model.fit(X2_train, y2_train)\n",
    "y_pred_rf = rf_model.predict(X2_test)\n",
    "\n",
    "rmse_rf = np.sqrt(mean_squared_error(y2_test, y_pred_rf))\n",
    "r2_rf = r2_score(y2_test, y_pred_rf)\n",
    "mape_rf = mean_absolute_percentage_error(y2_test, y_pred_rf)\n",
    "mae_rf = mean_absolute_error(y2_test, y_pred_rf)\n",
    "\n",
    "print(f'RMSE : {rmse_rf : .2f}')\n",
    "print(f'R² : {r2_rf : .2f}')\n",
    "print(f'MAPE : {mape_rf}')\n",
    "print(f'MAE : {mae_rf : .2f}')"
   ]
  },
  {
   "cell_type": "markdown",
   "id": "b5756808",
   "metadata": {},
   "source": [
    "**Pas d'algorithme \"meilleur\" dans l'absolu - ça dépend des données !**\n",
    "\n",
    "Relations linéaires → Régression linéaire/Ridge souvent suffisant\n",
    "\n",
    "Relations complexes (non-linéaire) → Random Forest excelle\n",
    "\n",
    "Petits datasets → Les algos simples marchent souvent mieux"
   ]
  }
 ],
 "metadata": {
  "kernelspec": {
   "display_name": "Python 3",
   "language": "python",
   "name": "python3"
  },
  "language_info": {
   "codemirror_mode": {
    "name": "ipython",
    "version": 3
   },
   "file_extension": ".py",
   "mimetype": "text/x-python",
   "name": "python",
   "nbconvert_exporter": "python",
   "pygments_lexer": "ipython3",
   "version": "3.12.3"
  }
 },
 "nbformat": 4,
 "nbformat_minor": 5
}
